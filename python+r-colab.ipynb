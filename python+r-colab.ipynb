{
  "nbformat": 4,
  "nbformat_minor": 0,
  "metadata": {
    "colab": {
      "provenance": [],
      "collapsed_sections": [],
      "mount_file_id": "1v3YXWHbUBeW_WBwaWvBsoW6LYCGf4PU8",
      "authorship_tag": "ABX9TyMPMiM2xwNWwCGGOiuk7D1g",
      "include_colab_link": true
    },
    "kernelspec": {
      "name": "python3",
      "display_name": "Python 3"
    },
    "language_info": {
      "name": "python"
    }
  },
  "cells": [
    {
      "cell_type": "markdown",
      "metadata": {
        "id": "view-in-github",
        "colab_type": "text"
      },
      "source": [
        "<a href=\"https://colab.research.google.com/github/jacobnuttall/misc/blob/main/python%2Br-colab.ipynb\" target=\"_parent\"><img src=\"https://colab.research.google.com/assets/colab-badge.svg\" alt=\"Open In Colab\"/></a>"
      ]
    },
    {
      "cell_type": "code",
      "execution_count": 1,
      "metadata": {
        "id": "I8kmEbFxEbkz",
        "colab": {
          "base_uri": "https://localhost:8080/"
        },
        "outputId": "953a43d3-bbf3-4d36-eb17-480c872c8d13"
      },
      "outputs": [
        {
          "output_type": "stream",
          "name": "stdout",
          "text": [
            "482\t     cities.json       communities.names\t crimedata.csv\t usr\n",
            "archive.zip  communities.data  CrimeAndPopulation.ipynb  library.tar.gz\n",
            "\n"
          ]
        }
      ],
      "source": [
        "%cd /content/drive/MyDrive/CS\\ 482/CommunitiesAndCrime\n",
        "!ls\n",
        "!echo "
      ]
    },
    {
      "cell_type": "code",
      "source": [
        "import numpy as np\n",
        "import pandas as pd\n",
        "import matplotlib.pyplot as plt\n",
        "!pip install rpy2\n",
        "%load_ext rpy2.ipython"
      ],
      "metadata": {
        "colab": {
          "base_uri": "https://localhost:8080/"
        },
        "id": "I8EzIcyHNRR4",
        "outputId": "010a5ef4-63ce-49c1-ca37-c06afccb52e0"
      },
      "execution_count": 2,
      "outputs": [
        {
          "output_type": "stream",
          "name": "stdout",
          "text": [
            "Looking in indexes: https://pypi.org/simple, https://us-python.pkg.dev/colab-wheels/public/simple/\n",
            "Requirement already satisfied: rpy2 in /usr/local/lib/python3.7/dist-packages (3.4.5)\n",
            "Requirement already satisfied: jinja2 in /usr/local/lib/python3.7/dist-packages (from rpy2) (2.11.3)\n",
            "Requirement already satisfied: tzlocal in /usr/local/lib/python3.7/dist-packages (from rpy2) (1.5.1)\n",
            "Requirement already satisfied: cffi>=1.10.0 in /usr/local/lib/python3.7/dist-packages (from rpy2) (1.15.1)\n",
            "Requirement already satisfied: pytz in /usr/local/lib/python3.7/dist-packages (from rpy2) (2022.2.1)\n",
            "Requirement already satisfied: pycparser in /usr/local/lib/python3.7/dist-packages (from cffi>=1.10.0->rpy2) (2.21)\n",
            "Requirement already satisfied: MarkupSafe>=0.23 in /usr/local/lib/python3.7/dist-packages (from jinja2->rpy2) (2.0.1)\n"
          ]
        }
      ]
    },
    {
      "cell_type": "code",
      "source": [
        "! ls ../usr/local/lib/R/site-library"
      ],
      "metadata": {
        "colab": {
          "base_uri": "https://localhost:8080/"
        },
        "id": "GXbBB429elHD",
        "outputId": "5df11cb6-72e3-4f36-f2ed-0f1c2a484b4d"
      },
      "execution_count": 16,
      "outputs": [
        {
          "output_type": "stream",
          "name": "stdout",
          "text": [
            "colabr\t      htmlwidgets  miniUI     Rcpp\t   R.oo\t\ttinytex\n",
            "crayon\t      httpuv\t   networkD3  RcppTOML\t   roxygen2\turlchecker\n",
            "DataExplorer  igraph\t   pbdZMQ     readr\t   R.utils\tvctrs\n",
            "downlit       IRdisplay    plyr       repr\t   shiny\tvroom\n",
            "fontawesome   IRkernel\t   png\t      reshape2\t   sourcetools\txtable\n",
            "gridExtra     jsonlite\t   profvis    reticulate   tibble\n",
            "here\t      later\t   promises   R.methodsS3  tidyverse\n"
          ]
        }
      ]
    },
    {
      "cell_type": "code",
      "source": [
        "# Install R packages\n",
        "\n",
        "%%R\n",
        "system2('$PWD')\n",
        "system2('cp /content/drive/MyDrive/CS\\ 482/lib/library.tar.gz')\n",
        "system2('tar xf /usr/local/lib/R/site-library/library.tar.gz')\n",
        "system2('ls /usr/local/lib/R/site-library/')\n",
        ".libPaths('/content/drive/MyDrive/CS\\ 482/usr/local/lib/R/site-library')\n",
        "\n",
        "# see https://stackoverflow.com/questions/63594521/install-a-r-package-permanently-in-google-colab\n",
        "sink(file('/dev/null', 'w'), type='message')\n",
        "install.packages('devtools')\n",
        "library(devtools)\n",
        "devtools::install_github('hansquiogue/colabr')\n",
        "library(colabr)\n",
        "install.packages('DataExplorer')\n",
        "library(DataExplorer)\n",
        "sink(type='message')\n",
        "\n",
        "tar(\"library.tar.gz\", \"/usr/local/lib/R/site-library\")\n",
        "\n",
        "system2('mkdir /content/drive/MyDrive/CS\\ 482')\n",
        "system2('library.tar.gz /content/drive/MyDrive/CS\\ 482/lib')"
      ],
      "metadata": {
        "id": "-RtnZDhlTLSb"
      },
      "execution_count": 17,
      "outputs": []
    },
    {
      "cell_type": "code",
      "source": [],
      "metadata": {
        "id": "XB9vzbTxaDP_"
      },
      "execution_count": null,
      "outputs": []
    },
    {
      "cell_type": "code",
      "source": [],
      "metadata": {
        "id": "7OwTxVvhZDRj"
      },
      "execution_count": null,
      "outputs": []
    },
    {
      "cell_type": "code",
      "source": [],
      "metadata": {
        "id": "7yeSSHn1WzWB"
      },
      "execution_count": null,
      "outputs": []
    },
    {
      "cell_type": "code",
      "source": [
        "! ls ../lib"
      ],
      "metadata": {
        "id": "CbmXXiBiYL5w"
      },
      "execution_count": null,
      "outputs": []
    },
    {
      "cell_type": "code",
      "source": [
        "%%R\n",
        "if (file.exists(\"/usr/local/lib/python3.7/dist-packages/google/colab/_ipython.py\")) { #may update python version  \n",
        "                                       #occasionally\n",
        "  install.packages(\"R.utils\")\n",
        "  library(\"R.utils\")\n",
        "  library(\"httr\")\n",
        "  my_check <- function() {return(TRUE)}\n",
        "  reassignInPackage(\"is_interactive\", pkgName = \"httr\", my_check) \n",
        "  options(rlang_interactive=TRUE)\n",
        "}"
      ],
      "metadata": {
        "id": "ddgpVJTzXPi4"
      },
      "execution_count": null,
      "outputs": []
    },
    {
      "cell_type": "code",
      "source": [
        "%%R\n",
        "drive_auth(use_oob = TRUE, cache = FALSE)"
      ],
      "metadata": {
        "id": "VTAbB_E1XRQ-"
      },
      "execution_count": null,
      "outputs": []
    },
    {
      "cell_type": "code",
      "source": [
        "data = pd.read_csv('crimedata.csv', encoding=\"ISO-8859-1\")\n",
        "# First column has a strange character\n",
        "data.rename({data.columns[0]:data.columns[0][1:]}, axis=1)"
      ],
      "metadata": {
        "id": "5VbKLIzvOzmv"
      },
      "execution_count": null,
      "outputs": []
    },
    {
      "cell_type": "code",
      "source": [],
      "metadata": {
        "id": "h16sqsGSRXz9"
      },
      "execution_count": null,
      "outputs": []
    }
  ]
}
